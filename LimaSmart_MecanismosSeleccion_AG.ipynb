{
 "cells": [
  {
   "cell_type": "markdown",
   "id": "e15d30cc",
   "metadata": {},
   "source": [
    "\n",
    "# 🏨 LimaSmart - Optimización de Tarifas Dinámicas con Algoritmos Genéticos\n",
    "\n",
    "Este notebook aplica mecanismos de selección, cruce y mutación sobre un conjunto de precios binarios para maximizar el ingreso estimado de un hotel urbano.\n"
   ]
  },
  {
   "cell_type": "markdown",
   "id": "90a2da00",
   "metadata": {},
   "source": [
    "## Paso 1: Cargar y visualizar el dataset"
   ]
  },
  {
   "cell_type": "code",
   "execution_count": null,
   "id": "88639c6c",
   "metadata": {},
   "outputs": [],
   "source": [
    "\n",
    "import pandas as pd\n",
    "import random\n",
    "import matplotlib.pyplot as plt\n",
    "\n",
    "# Cargar el dataset\n",
    "df = pd.read_csv(\"lima_smart_tarifas.csv\")\n",
    "df = df.sort_values(by=\"Fitness\", ascending=False).reset_index(drop=True)\n",
    "df\n"
   ]
  },
  {
   "cell_type": "markdown",
   "id": "bf148ddb",
   "metadata": {},
   "source": [
    "## Paso 2: Implementar mecanismos de selección"
   ]
  },
  {
   "cell_type": "code",
   "execution_count": null,
   "id": "9e1f4baa",
   "metadata": {},
   "outputs": [],
   "source": [
    "\n",
    "def seleccion_ruleta(df, n=4):\n",
    "    total_fit = df['Fitness'].sum()\n",
    "    seleccionados = []\n",
    "    for _ in range(n):\n",
    "        pick = random.uniform(0, total_fit)\n",
    "        current = 0\n",
    "        for _, row in df.iterrows():\n",
    "            current += row['Fitness']\n",
    "            if current >= pick:\n",
    "                seleccionados.append(row['Cromosoma'])\n",
    "                break\n",
    "    return seleccionados\n",
    "\n",
    "def seleccion_torneo(df, n=4, k=3):\n",
    "    seleccionados = []\n",
    "    for _ in range(n):\n",
    "        grupo = df.sample(k)\n",
    "        ganador = grupo.loc[grupo['Fitness'].idxmax()]\n",
    "        seleccionados.append(ganador['Cromosoma'])\n",
    "    return seleccionados\n",
    "\n",
    "def seleccion_elitismo(df, n=4):\n",
    "    return df.head(n)['Cromosoma'].tolist()\n",
    "\n",
    "def seleccion_ranking(df, n=4):\n",
    "    df_sorted = df.sort_values(by='Fitness').reset_index(drop=True)\n",
    "    df_sorted['Rank'] = df_sorted.index + 1\n",
    "    total_ranks = df_sorted['Rank'].sum()\n",
    "    seleccionados = []\n",
    "    for _ in range(n):\n",
    "        pick = random.uniform(0, total_ranks)\n",
    "        current = 0\n",
    "        for _, row in df_sorted.iterrows():\n",
    "            current += row['Rank']\n",
    "            if current >= pick:\n",
    "                seleccionados.append(row['Cromosoma'])\n",
    "                break\n",
    "    return seleccionados\n",
    "\n",
    "def seleccion_estocastica(df, n=4):\n",
    "    df = df.copy()\n",
    "    df['Probabilidad'] = df['Fitness'] / df['Fitness'].sum()\n",
    "    df['Acumulada'] = df['Probabilidad'].cumsum()\n",
    "    start = random.uniform(0, 1/n)\n",
    "    puntos = [start + i/n for i in range(n)]\n",
    "    seleccionados = []\n",
    "    for punto in puntos:\n",
    "        for _, row in df.iterrows():\n",
    "            if punto <= row['Acumulada']:\n",
    "                seleccionados.append(row['Cromosoma'])\n",
    "                break\n",
    "    return seleccionados\n"
   ]
  },
  {
   "cell_type": "markdown",
   "id": "6992ea3a",
   "metadata": {},
   "source": [
    "## Paso 3: Aplicar cada mecanismo de selección"
   ]
  },
  {
   "cell_type": "code",
   "execution_count": null,
   "id": "f07af56b",
   "metadata": {},
   "outputs": [],
   "source": [
    "\n",
    "ruleta = seleccion_ruleta(df)\n",
    "torneo = seleccion_torneo(df)\n",
    "elitismo = seleccion_elitismo(df)\n",
    "ranking = seleccion_ranking(df)\n",
    "estocastica = seleccion_estocastica(df)\n",
    "\n",
    "def fitness_prom(rutas):\n",
    "    return df[df['Cromosoma'].isin(rutas)]['Fitness'].mean()\n",
    "\n",
    "resultados = {\n",
    "    \"Ruleta\": {\"Individuos\": ruleta, \"Fitness Promedio\": fitness_prom(ruleta)},\n",
    "    \"Torneo\": {\"Individuos\": torneo, \"Fitness Promedio\": fitness_prom(torneo)},\n",
    "    \"Elitismo\": {\"Individuos\": elitismo, \"Fitness Promedio\": fitness_prom(elitismo)},\n",
    "    \"Ranking\": {\"Individuos\": ranking, \"Fitness Promedio\": fitness_prom(ranking)},\n",
    "    \"Estocástica\": {\"Individuos\": estocastica, \"Fitness Promedio\": fitness_prom(estocastica)}\n",
    "}\n",
    "\n",
    "# Visualización\n",
    "plt.figure(figsize=(10,6))\n",
    "plt.bar(resultados.keys(), [v[\"Fitness Promedio\"] for v in resultados.values()])\n",
    "plt.title(\"Comparación de Fitness Promedio por Mecanismo de Selección\")\n",
    "plt.ylabel(\"Fitness Promedio\")\n",
    "plt.grid(axis='y')\n",
    "plt.show()\n"
   ]
  },
  {
   "cell_type": "markdown",
   "id": "0e7c78fb",
   "metadata": {},
   "source": [
    "## Paso 4 y 5: Cruce de un punto y mutación simple"
   ]
  },
  {
   "cell_type": "code",
   "execution_count": null,
   "id": "481fa1e7",
   "metadata": {},
   "outputs": [],
   "source": [
    "\n",
    "def cruce_un_punto(p1, p2):\n",
    "    punto = random.randint(1, len(p1)-1)\n",
    "    return p1[:punto] + p2[punto:], p2[:punto] + p1[punto:]\n",
    "\n",
    "def mutar(crom, tasa=0.1):\n",
    "    return ''.join('1' if c == '0' and random.random() < tasa else\n",
    "                   '0' if c == '1' and random.random() < tasa else c\n",
    "                   for c in crom)\n",
    "\n",
    "nuevos = {}\n",
    "for metodo, datos in resultados.items():\n",
    "    padres = datos['Individuos']\n",
    "    if len(padres) >= 2:\n",
    "        h1, h2 = cruce_un_punto(padres[0], padres[1])\n",
    "        nuevos[metodo] = [mutar(h1), mutar(h2)]\n",
    "\n",
    "nuevos\n"
   ]
  },
  {
   "cell_type": "markdown",
   "id": "a2a7d98b",
   "metadata": {},
   "source": [
    "\n",
    "## ✅ Conclusiones Finales\n",
    "\n",
    "- Los mecanismos de selección como **elitismo** y **torneo** favorecen la mejora rápida pero tienden a reducir diversidad.\n",
    "- Métodos como **ruleta**, **ranking** y **estocástica universal** permiten mantener la variabilidad en la población.\n",
    "- La **mutación simple** es fundamental para evitar la convergencia prematura.\n",
    "- La visualización del fitness promedio permite seleccionar estrategias más eficientes para la evolución genética.\n",
    "- Este enfoque es útil en decisiones dinámicas como precios de habitaciones, tarifas, recursos o combinaciones de marketing.\n"
   ]
  }
 ],
 "metadata": {},
 "nbformat": 4,
 "nbformat_minor": 5
}
