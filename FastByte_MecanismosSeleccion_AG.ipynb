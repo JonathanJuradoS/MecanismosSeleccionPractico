{
 "cells": [
  {
   "cell_type": "markdown",
   "id": "8af264cf",
   "metadata": {},
   "source": [
    "\n",
    "# 🍔 FastByte Burgers - Optimización de Combos con Algoritmos Genéticos\n",
    "\n",
    "Este notebook aplica mecanismos de selección, cruce y mutación sobre combinaciones de productos para maximizar la utilidad semanal de una cadena de comida rápida.\n"
   ]
  },
  {
   "cell_type": "markdown",
   "id": "992875d2",
   "metadata": {},
   "source": [
    "## Paso 1: Cargar y visualizar el dataset"
   ]
  },
  {
   "cell_type": "code",
   "execution_count": null,
   "id": "e66662a8",
   "metadata": {},
   "outputs": [],
   "source": [
    "\n",
    "import pandas as pd\n",
    "import random\n",
    "import matplotlib.pyplot as plt\n",
    "\n",
    "# Cargar dataset\n",
    "df = pd.read_csv(\"fastbyte_combos.csv\")\n",
    "df = df.sort_values(by=\"Fitness\", ascending=False).reset_index(drop=True)\n",
    "df\n"
   ]
  },
  {
   "cell_type": "markdown",
   "id": "3c00b329",
   "metadata": {},
   "source": [
    "## Paso 2: Implementar mecanismos de selección"
   ]
  },
  {
   "cell_type": "code",
   "execution_count": null,
   "id": "bc0640b0",
   "metadata": {},
   "outputs": [],
   "source": [
    "\n",
    "def seleccion_ruleta(df, n=4):\n",
    "    total_fit = df['Fitness'].sum()\n",
    "    seleccionados = []\n",
    "    for _ in range(n):\n",
    "        pick = random.uniform(0, total_fit)\n",
    "        current = 0\n",
    "        for _, row in df.iterrows():\n",
    "            current += row['Fitness']\n",
    "            if current >= pick:\n",
    "                seleccionados.append(row['Cromosoma'])\n",
    "                break\n",
    "    return seleccionados\n",
    "\n",
    "def seleccion_torneo(df, n=4, k=3):\n",
    "    seleccionados = []\n",
    "    for _ in range(n):\n",
    "        grupo = df.sample(k)\n",
    "        ganador = grupo.loc[grupo['Fitness'].idxmax()]\n",
    "        seleccionados.append(ganador['Cromosoma'])\n",
    "    return seleccionados\n",
    "\n",
    "def seleccion_elitismo(df, n=4):\n",
    "    return df.head(n)['Cromosoma'].tolist()\n",
    "\n",
    "def seleccion_ranking(df, n=4):\n",
    "    df_sorted = df.sort_values(by='Fitness').reset_index(drop=True)\n",
    "    df_sorted['Rank'] = df_sorted.index + 1\n",
    "    total_ranks = df_sorted['Rank'].sum()\n",
    "    seleccionados = []\n",
    "    for _ in range(n):\n",
    "        pick = random.uniform(0, total_ranks)\n",
    "        current = 0\n",
    "        for _, row in df_sorted.iterrows():\n",
    "            current += row['Rank']\n",
    "            if current >= pick:\n",
    "                seleccionados.append(row['Cromosoma'])\n",
    "                break\n",
    "    return seleccionados\n",
    "\n",
    "def seleccion_estocastica(df, n=4):\n",
    "    df = df.copy()\n",
    "    df['Probabilidad'] = df['Fitness'] / df['Fitness'].sum()\n",
    "    df['Acumulada'] = df['Probabilidad'].cumsum()\n",
    "    start = random.uniform(0, 1/n)\n",
    "    puntos = [start + i/n for i in range(n)]\n",
    "    seleccionados = []\n",
    "    for punto in puntos:\n",
    "        for _, row in df.iterrows():\n",
    "            if punto <= row['Acumulada']:\n",
    "                seleccionados.append(row['Cromosoma'])\n",
    "                break\n",
    "    return seleccionados\n"
   ]
  },
  {
   "cell_type": "markdown",
   "id": "1ca4a378",
   "metadata": {},
   "source": [
    "## Paso 3: Aplicar mecanismos de selección y comparar fitness promedio"
   ]
  },
  {
   "cell_type": "code",
   "execution_count": null,
   "id": "5e1b420f",
   "metadata": {},
   "outputs": [],
   "source": [
    "\n",
    "ruleta = seleccion_ruleta(df)\n",
    "torneo = seleccion_torneo(df)\n",
    "elitismo = seleccion_elitismo(df)\n",
    "ranking = seleccion_ranking(df)\n",
    "estocastica = seleccion_estocastica(df)\n",
    "\n",
    "def fitness_promedio(rutas):\n",
    "    return df[df['Cromosoma'].isin(rutas)]['Fitness'].mean()\n",
    "\n",
    "resultados = {\n",
    "    \"Ruleta\": {\"Individuos\": ruleta, \"Fitness Promedio\": fitness_promedio(ruleta)},\n",
    "    \"Torneo\": {\"Individuos\": torneo, \"Fitness Promedio\": fitness_promedio(torneo)},\n",
    "    \"Elitismo\": {\"Individuos\": elitismo, \"Fitness Promedio\": fitness_promedio(elitismo)},\n",
    "    \"Ranking\": {\"Individuos\": ranking, \"Fitness Promedio\": fitness_promedio(ranking)},\n",
    "    \"Estocástica\": {\"Individuos\": estocastica, \"Fitness Promedio\": fitness_promedio(estocastica)}\n",
    "}\n",
    "\n",
    "# Visualización\n",
    "plt.figure(figsize=(10,6))\n",
    "plt.bar(resultados.keys(), [v[\"Fitness Promedio\"] for v in resultados.values()])\n",
    "plt.title(\"Comparación de Fitness Promedio por Mecanismo de Selección\")\n",
    "plt.ylabel(\"Fitness Promedio\")\n",
    "plt.grid(axis='y')\n",
    "plt.show()\n"
   ]
  },
  {
   "cell_type": "markdown",
   "id": "90008a72",
   "metadata": {},
   "source": [
    "## Paso 4 y 5: Cruce de un punto y mutación simple"
   ]
  },
  {
   "cell_type": "code",
   "execution_count": null,
   "id": "d301762c",
   "metadata": {},
   "outputs": [],
   "source": [
    "\n",
    "def cruce_un_punto(p1, p2):\n",
    "    punto = random.randint(1, len(p1)-1)\n",
    "    return p1[:punto] + p2[punto:], p2[:punto] + p1[punto:]\n",
    "\n",
    "def mutacion_simple(crom, tasa=0.1):\n",
    "    return ''.join('1' if c == '0' and random.random() < tasa else\n",
    "                   '0' if c == '1' and random.random() < tasa else c for c in crom)\n",
    "\n",
    "nuevos = {}\n",
    "for metodo, datos in resultados.items():\n",
    "    padres = datos['Individuos']\n",
    "    if len(padres) >= 2:\n",
    "        h1, h2 = cruce_un_punto(padres[0], padres[1])\n",
    "        nuevos[metodo] = [mutacion_simple(h1), mutacion_simple(h2)]\n",
    "\n",
    "nuevos\n"
   ]
  },
  {
   "cell_type": "markdown",
   "id": "b87e1d54",
   "metadata": {},
   "source": [
    "\n",
    "## ✅ Conclusión Final\n",
    "\n",
    "- Los mecanismos de selección aplicados al diseño de combos muestran cómo un algoritmo genético puede optimizar utilidades sin necesidad de evaluación manual.\n",
    "- **Elitismo** y **torneo** ofrecen soluciones rápidamente, pero pueden limitar la variedad.\n",
    "- **Ruleta**, **ranking** y **estocástica universal** mantienen diversidad, útil en mercados con alta rotación de preferencias.\n",
    "- **Cruce y mutación** introducen variabilidad que permite encontrar combinaciones innovadoras de productos.\n",
    "- Este enfoque puede ser replicado para ofertas, menús, o promociones en muchos tipos de negocios retail.\n"
   ]
  }
 ],
 "metadata": {},
 "nbformat": 4,
 "nbformat_minor": 5
}
