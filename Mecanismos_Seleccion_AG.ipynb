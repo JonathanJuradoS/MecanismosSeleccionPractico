{
 "cells": [
  {
   "cell_type": "markdown",
   "id": "8fcdbe49",
   "metadata": {},
   "source": [
    "\n",
    "# 🧬 Principales Mecanismos de Selección en Algoritmos Genéticos\n",
    "Este notebook muestra cómo funcionan los principales mecanismos de selección con ejemplos en Python:\n",
    "1. Selección por ruleta\n",
    "2. Selección por torneo\n",
    "3. Elitismo\n",
    "4. Selección por ranking\n",
    "5. Selección estocástica universal\n"
   ]
  },
  {
   "cell_type": "code",
   "execution_count": 1,
   "id": "e7c9b238",
   "metadata": {},
   "outputs": [
    {
     "name": "stdout",
     "output_type": "stream",
     "text": [
      "Población inicial:\n",
      "  Individuo  Fitness\n",
      "0      Ind1       46\n",
      "1      Ind2       71\n",
      "2      Ind3       97\n",
      "3      Ind4       11\n",
      "4      Ind5       14\n",
      "5      Ind6       50\n",
      "6      Ind7       96\n",
      "7      Ind8       50\n",
      "8      Ind9       77\n",
      "9     Ind10       70\n"
     ]
    }
   ],
   "source": [
    "\n",
    "import numpy as np\n",
    "import random\n",
    "import pandas as pd\n",
    "\n",
    "# Crear población de ejemplo con fitness aleatorio\n",
    "poblacion = pd.DataFrame({\n",
    "    'Individuo': [f'Ind{i}' for i in range(1, 11)],\n",
    "    'Fitness': np.random.randint(10, 100, size=10)\n",
    "})\n",
    "\n",
    "print(\"Población inicial:\")\n",
    "print(poblacion)\n"
   ]
  },
  {
   "cell_type": "markdown",
   "id": "a63e699b",
   "metadata": {},
   "source": [
    "## 🎯 Selección por Ruleta"
   ]
  },
  {
   "cell_type": "code",
   "execution_count": 2,
   "id": "8088efb3",
   "metadata": {},
   "outputs": [
    {
     "name": "stdout",
     "output_type": "stream",
     "text": [
      "Seleccionados por ruleta: ['Ind9', 'Ind1', 'Ind9']\n"
     ]
    }
   ],
   "source": [
    "\n",
    "# En este método, la probabilidad de ser seleccionado es proporcional al fitness del individuo.\n",
    "\n",
    "def seleccion_ruleta(df, n=3):\n",
    "    total_fit = df['Fitness'].sum()\n",
    "    seleccionados = []\n",
    "    for _ in range(n):\n",
    "        pick = random.uniform(0, total_fit)\n",
    "        current = 0\n",
    "        for i, row in df.iterrows():\n",
    "            current += row['Fitness']\n",
    "            if current >= pick:\n",
    "                seleccionados.append(row['Individuo'])\n",
    "                break\n",
    "    return seleccionados\n",
    "\n",
    "print(\"Seleccionados por ruleta:\", seleccion_ruleta(poblacion))\n"
   ]
  },
  {
   "cell_type": "markdown",
   "id": "9b47ec6c",
   "metadata": {},
   "source": [
    "## 🏆 Selección por Torneo"
   ]
  },
  {
   "cell_type": "code",
   "execution_count": 3,
   "id": "143063d7",
   "metadata": {},
   "outputs": [
    {
     "name": "stdout",
     "output_type": "stream",
     "text": [
      "Seleccionados por torneo: ['Ind1', 'Ind7', 'Ind9']\n"
     ]
    }
   ],
   "source": [
    "\n",
    "# Se seleccionan k individuos al azar y se escoge el mejor. Se repite n veces.\n",
    "\n",
    "def seleccion_torneo(df, n=3, k=3):\n",
    "    seleccionados = []\n",
    "    for _ in range(n):\n",
    "        competidores = df.sample(k)\n",
    "        ganador = competidores.loc[competidores['Fitness'].idxmax()]\n",
    "        seleccionados.append(ganador['Individuo'])\n",
    "    return seleccionados\n",
    "\n",
    "print(\"Seleccionados por torneo:\", seleccion_torneo(poblacion))\n"
   ]
  },
  {
   "cell_type": "markdown",
   "id": "ad9a7995",
   "metadata": {},
   "source": [
    "## 🥇 Elitismo"
   ]
  },
  {
   "cell_type": "code",
   "execution_count": 4,
   "id": "040dc272",
   "metadata": {},
   "outputs": [
    {
     "name": "stdout",
     "output_type": "stream",
     "text": [
      "Seleccionados por elitismo: ['Ind3', 'Ind7', 'Ind9']\n"
     ]
    }
   ],
   "source": [
    "\n",
    "# Se seleccionan los mejores n individuos directamente (sin sorteo).\n",
    "\n",
    "def seleccion_elitismo(df, n=3):\n",
    "    df_sorted = df.sort_values(by='Fitness', ascending=False)\n",
    "    return df_sorted.head(n)['Individuo'].tolist()\n",
    "\n",
    "print(\"Seleccionados por elitismo:\", seleccion_elitismo(poblacion))\n"
   ]
  },
  {
   "cell_type": "markdown",
   "id": "b8a020f0",
   "metadata": {},
   "source": [
    "## 📈 Selección por Ranking"
   ]
  },
  {
   "cell_type": "code",
   "execution_count": 5,
   "id": "761e542f",
   "metadata": {},
   "outputs": [
    {
     "name": "stdout",
     "output_type": "stream",
     "text": [
      "Seleccionados por ranking: ['Ind5', 'Ind7', 'Ind2']\n"
     ]
    }
   ],
   "source": [
    "\n",
    "# Se asignan probabilidades según el orden de ranking, no por el valor exacto del fitness.\n",
    "\n",
    "def seleccion_ranking(df, n=3):\n",
    "    df_sorted = df.sort_values(by='Fitness').reset_index(drop=True)\n",
    "    df_sorted['Rank'] = df_sorted.index + 1\n",
    "    total_ranks = df_sorted['Rank'].sum()\n",
    "    seleccionados = []\n",
    "    for _ in range(n):\n",
    "        pick = random.uniform(0, total_ranks)\n",
    "        current = 0\n",
    "        for i, row in df_sorted.iterrows():\n",
    "            current += row['Rank']\n",
    "            if current >= pick:\n",
    "                seleccionados.append(row['Individuo'])\n",
    "                break\n",
    "    return seleccionados\n",
    "\n",
    "print(\"Seleccionados por ranking:\", seleccion_ranking(poblacion))\n"
   ]
  },
  {
   "cell_type": "markdown",
   "id": "25cf196f",
   "metadata": {},
   "source": [
    "## 🧮 Selección Estocástica Universal"
   ]
  },
  {
   "cell_type": "code",
   "execution_count": 6,
   "id": "cef356e5",
   "metadata": {},
   "outputs": [
    {
     "name": "stdout",
     "output_type": "stream",
     "text": [
      "Seleccionados por estocástica universal: ['Ind2', 'Ind7', 'Ind9']\n"
     ]
    }
   ],
   "source": [
    "\n",
    "# Similar a la ruleta, pero se hacen múltiples selecciones equidistantes.\n",
    "\n",
    "def seleccion_estocastica(df, n=3):\n",
    "    df = df.copy()\n",
    "    df['Probabilidad'] = df['Fitness'] / df['Fitness'].sum()\n",
    "    df['Acumulada'] = df['Probabilidad'].cumsum()\n",
    "    start = random.uniform(0, 1/n)\n",
    "    puntos = [(start + i/n) for i in range(n)]\n",
    "    seleccionados = []\n",
    "    for punto in puntos:\n",
    "        for i, row in df.iterrows():\n",
    "            if punto <= row['Acumulada']:\n",
    "                seleccionados.append(row['Individuo'])\n",
    "                break\n",
    "    return seleccionados\n",
    "\n",
    "print(\"Seleccionados por estocástica universal:\", seleccion_estocastica(poblacion))\n"
   ]
  }
 ],
 "metadata": {
  "kernelspec": {
   "display_name": "Dev_003",
   "language": "python",
   "name": "python3"
  },
  "language_info": {
   "codemirror_mode": {
    "name": "ipython",
    "version": 3
   },
   "file_extension": ".py",
   "mimetype": "text/x-python",
   "name": "python",
   "nbconvert_exporter": "python",
   "pygments_lexer": "ipython3",
   "version": "3.9.21"
  }
 },
 "nbformat": 4,
 "nbformat_minor": 5
}
